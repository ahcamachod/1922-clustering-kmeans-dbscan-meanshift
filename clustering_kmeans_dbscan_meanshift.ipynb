{
  "nbformat": 4,
  "nbformat_minor": 0,
  "metadata": {
    "colab": {
      "name": "clustering_kmeans_dbscan_meanshift.ipynb",
      "provenance": [],
      "collapsed_sections": [],
      "authorship_tag": "ABX9TyO5JmU1rdOQroJ3o7PLc35U",
      "include_colab_link": true
    },
    "kernelspec": {
      "name": "python3",
      "display_name": "Python 3"
    },
    "language_info": {
      "name": "python"
    }
  },
  "cells": [
    {
      "cell_type": "markdown",
      "metadata": {
        "id": "view-in-github",
        "colab_type": "text"
      },
      "source": [
        "<a href=\"https://colab.research.google.com/github/ahcamachod/1922-clustering-kmeans-dbscan-meanshift/blob/main/clustering_kmeans_dbscan_meanshift.ipynb\" target=\"_parent\"><img src=\"https://colab.research.google.com/assets/colab-badge.svg\" alt=\"Open In Colab\"/></a>"
      ]
    },
    {
      "cell_type": "markdown",
      "source": [
        "# **Clustering: KMeans, DBSCAN y Mean Shift** \n",
        "\n",
        "En este notebook estaremos ejecutando diversos métodos para la clusterización de datos.\n",
        "\n",
        "Utilizaremos una base de datos disponible en Kaggle llamada *Customer Personality Analysis*.\n",
        "\n",
        "El dataset utilizado se puede acceder en el siguiente link: https://www.kaggle.com/datasets/imakash3011/customer-personality-analysis "
      ],
      "metadata": {
        "id": "MA6Hyoxt5wY0"
      }
    },
    {
      "cell_type": "markdown",
      "source": [
        "## Aula 1"
      ],
      "metadata": {
        "id": "dXPlj3lRFVnF"
      }
    },
    {
      "cell_type": "markdown",
      "source": [
        "### 1.2 Importando los datos"
      ],
      "metadata": {
        "id": "CE5OGqXHSbKa"
      }
    },
    {
      "cell_type": "code",
      "source": [
        ""
      ],
      "metadata": {
        "id": "1Ox4dI6F1EEP"
      },
      "execution_count": null,
      "outputs": []
    },
    {
      "cell_type": "code",
      "source": [
        ""
      ],
      "metadata": {
        "id": "ee8f29nu1EMo"
      },
      "execution_count": null,
      "outputs": []
    },
    {
      "cell_type": "markdown",
      "source": [
        "**Clientes**\n",
        "\n",
        "*ID*: Identificación única del cliente.\n",
        "\n",
        "*Ano_Nacimiento*: Año de nacimiento del cliente.\n",
        "\n",
        "*Escolaridad*: Nivel educativo del cliente.\n",
        "\n",
        "*Estado_Civil*: Estado civil del cliente.\n",
        "\n",
        "*Renta_Anual*: Renta anual del cliente.\n",
        "\n",
        "*CtNinos*: Número de niños en el hogar.\n",
        "\n",
        "*CtAdolescentes*: Número de adolescentes en el hogar.\n",
        "\n",
        "*Primera_Compra*: Fecha en que compró por primera vez\n",
        "\n",
        "*Recencia*: Hace cuántos días realizó la última compra.\n",
        "\n",
        "*Quejas*: 1 si el cliente se quejó en los últimos 2 años, 0 en otro caso.\n",
        "\n",
        "**Productos**\n",
        "\n",
        "*GastoVinos*: Gasto en vinos en los últimos 2 años.\n",
        "\n",
        "*GastoFrutas*: Gasto en frutas en los últimos 2 años.\n",
        "\n",
        "*GastoCarnes*: Gasto en carne en los últimos 2 años.\n",
        "\n",
        "*GastoPescado*: Gasto en pescado en los últimos 2 años.\n",
        "\n",
        "*GastoGolosinas*: Gasto en golosinas en los últimos 2 años.\n",
        "\n",
        "*GastoOro*: Gasto en productos de oro en los últimos 2 años.\n",
        "\n",
        "**Promociones**\n",
        "\n",
        "*NumComprasConDescuento*: Número de compras con descuento.\n",
        "\n",
        "*AceptaCmp1*: 1 si el cliente aceptó la oferta en la primera campaña, 0 en otro caso.\n",
        "\n",
        "*AceptaCmp2*: 1 si el cliente aceptó la oferta en la segunda campaña, 0 en otro caso.\n",
        "\n",
        "*AceptaCmp3*: 1 si el cliente aceptó la oferta en la tercera campaña, 0 en otro caso.\n",
        "\n",
        "*AceptaCmp4*: 1 si el cliente aceptó la oferta en la cuarta campaña, 0 en otro caso.\n",
        "\n",
        "*AceptaCmp5*: 1 si el cliente aceptó la oferta en la quinta campaña, 0 en otro caso.\n",
        "\n",
        "*AceptaCmpActual*: 1 si el cliente aceptó la oferta en la última campaña, 0 en otro caso.\n",
        "\n",
        "**Compras**\n",
        "\n",
        "*NumComprasOnline*: Número de compras realizadas en la página web.\n",
        "\n",
        "*NumComprasCatalogo*: Número de compras realizadas a través del catálogo.\n",
        "\n",
        "*NumComprasTienda*: Número de compras realizadas en la tienda.\n",
        "\n",
        "*NumVisitasOnlineMes*: Número de visitas realizadas a la página web."
      ],
      "metadata": {
        "id": "lZYQjqULG5ko"
      }
    },
    {
      "cell_type": "markdown",
      "source": [
        "### 1.3 Analizando y transformando los datos"
      ],
      "metadata": {
        "id": "SQtX9L1GSiTD"
      }
    },
    {
      "cell_type": "code",
      "source": [
        ""
      ],
      "metadata": {
        "id": "qt4nE4O51IBC"
      },
      "execution_count": null,
      "outputs": []
    },
    {
      "cell_type": "code",
      "source": [
        ""
      ],
      "metadata": {
        "id": "KBSnmC8c1ID4"
      },
      "execution_count": null,
      "outputs": []
    },
    {
      "cell_type": "markdown",
      "source": [
        "### 1.4 Selección de atributos "
      ],
      "metadata": {
        "id": "Y-gC2OPmn1I6"
      }
    },
    {
      "cell_type": "code",
      "source": [
        ""
      ],
      "metadata": {
        "id": "4xB3VSnx1OL7"
      },
      "execution_count": null,
      "outputs": []
    },
    {
      "cell_type": "code",
      "source": [
        ""
      ],
      "metadata": {
        "id": "GH25NULp1OOV"
      },
      "execution_count": null,
      "outputs": []
    },
    {
      "cell_type": "markdown",
      "source": [
        "### 1.5 Normalización"
      ],
      "metadata": {
        "id": "JBtUeQ2SxkUv"
      }
    },
    {
      "cell_type": "code",
      "source": [
        ""
      ],
      "metadata": {
        "id": "qOcVvCFU1UoF"
      },
      "execution_count": null,
      "outputs": []
    },
    {
      "cell_type": "code",
      "source": [
        ""
      ],
      "metadata": {
        "id": "p4N2Jico1Uqc"
      },
      "execution_count": null,
      "outputs": []
    },
    {
      "cell_type": "markdown",
      "source": [
        "## Aula 2 "
      ],
      "metadata": {
        "id": "Y5LpA_rTFYm7"
      }
    },
    {
      "cell_type": "markdown",
      "source": [
        "### 2.2 KMeans"
      ],
      "metadata": {
        "id": "kpFXy8uKxxR_"
      }
    },
    {
      "cell_type": "code",
      "source": [
        ""
      ],
      "metadata": {
        "id": "lZzdRnVA0Xd8"
      },
      "execution_count": null,
      "outputs": []
    },
    {
      "cell_type": "code",
      "source": [
        ""
      ],
      "metadata": {
        "id": "SjFOE6R40Xgf"
      },
      "execution_count": null,
      "outputs": []
    },
    {
      "cell_type": "markdown",
      "source": [
        "### 2.3 Gráficando los clusters en 2D"
      ],
      "metadata": {
        "id": "fE-e-GMiA3JL"
      }
    },
    {
      "cell_type": "code",
      "source": [
        ""
      ],
      "metadata": {
        "id": "d1dqKXcE0ZZG"
      },
      "execution_count": null,
      "outputs": []
    },
    {
      "cell_type": "code",
      "source": [
        ""
      ],
      "metadata": {
        "id": "FExy4zme0Zbp"
      },
      "execution_count": null,
      "outputs": []
    },
    {
      "cell_type": "markdown",
      "source": [
        "### 2.4 Gráficando los clusters en 3D"
      ],
      "metadata": {
        "id": "wFW_4VKIBIzl"
      }
    },
    {
      "cell_type": "code",
      "source": [
        ""
      ],
      "metadata": {
        "id": "8J6UsS5b0bUF"
      },
      "execution_count": null,
      "outputs": []
    },
    {
      "cell_type": "code",
      "source": [
        ""
      ],
      "metadata": {
        "id": "9KRp3o2j0bWm"
      },
      "execution_count": null,
      "outputs": []
    },
    {
      "cell_type": "markdown",
      "source": [
        "### 2.5 Visualizando los centroides"
      ],
      "metadata": {
        "id": "dYkIXczKDtuf"
      }
    },
    {
      "cell_type": "code",
      "source": [
        ""
      ],
      "metadata": {
        "id": "nUcgIlxq0de0"
      },
      "execution_count": null,
      "outputs": []
    },
    {
      "cell_type": "code",
      "source": [
        ""
      ],
      "metadata": {
        "id": "oVERc-BH0djr"
      },
      "execution_count": null,
      "outputs": []
    },
    {
      "cell_type": "markdown",
      "source": [
        "## Aula 3"
      ],
      "metadata": {
        "id": "YhxEmRXUFbgL"
      }
    },
    {
      "cell_type": "markdown",
      "source": [
        "### 3.2 DBSCAN"
      ],
      "metadata": {
        "id": "I6c5Zhq9V2_S"
      }
    },
    {
      "cell_type": "code",
      "source": [
        ""
      ],
      "metadata": {
        "id": "emyLJAlK0B49"
      },
      "execution_count": null,
      "outputs": []
    },
    {
      "cell_type": "code",
      "source": [
        ""
      ],
      "metadata": {
        "id": "zEUCoftd0B7c"
      },
      "execution_count": null,
      "outputs": []
    },
    {
      "cell_type": "markdown",
      "source": [
        "### 3.3 Ajuste de hiperparámetros y visualización"
      ],
      "metadata": {
        "id": "XHY-vP80gKHT"
      }
    },
    {
      "cell_type": "code",
      "source": [
        ""
      ],
      "metadata": {
        "id": "KAcfb327z_vd"
      },
      "execution_count": null,
      "outputs": []
    },
    {
      "cell_type": "code",
      "source": [
        ""
      ],
      "metadata": {
        "id": "paiduubmz_14"
      },
      "execution_count": null,
      "outputs": []
    },
    {
      "cell_type": "markdown",
      "source": [
        "## Aula 4"
      ],
      "metadata": {
        "id": "O6L3k_rCFedk"
      }
    },
    {
      "cell_type": "markdown",
      "source": [
        "### 4.2 Mean Shift"
      ],
      "metadata": {
        "id": "kknoDK07hGID"
      }
    },
    {
      "cell_type": "code",
      "source": [
        ""
      ],
      "metadata": {
        "id": "aX7Ozb2rzwwe"
      },
      "execution_count": null,
      "outputs": []
    },
    {
      "cell_type": "code",
      "source": [
        ""
      ],
      "metadata": {
        "id": "I7oW1mCxzw1i"
      },
      "execution_count": null,
      "outputs": []
    },
    {
      "cell_type": "markdown",
      "source": [
        "### 4.3 Visualización de clusters"
      ],
      "metadata": {
        "id": "vPNy8gVYnC47"
      }
    },
    {
      "cell_type": "code",
      "source": [
        ""
      ],
      "metadata": {
        "id": "UAGf7r94zy3c"
      },
      "execution_count": null,
      "outputs": []
    },
    {
      "cell_type": "code",
      "source": [
        ""
      ],
      "metadata": {
        "id": "t01R28Y7zy66"
      },
      "execution_count": null,
      "outputs": []
    },
    {
      "cell_type": "markdown",
      "source": [
        "## Aula 5"
      ],
      "metadata": {
        "id": "mcD0AwlzFg9X"
      }
    },
    {
      "cell_type": "markdown",
      "source": [
        "### 5.1 Métrica para validación"
      ],
      "metadata": {
        "id": "l5uqW0OgDkJz"
      }
    },
    {
      "cell_type": "code",
      "source": [
        ""
      ],
      "metadata": {
        "id": "0fmdkw--zdJi"
      },
      "execution_count": null,
      "outputs": []
    },
    {
      "cell_type": "code",
      "source": [
        ""
      ],
      "metadata": {
        "id": "RXT_5JETzdMD"
      },
      "execution_count": null,
      "outputs": []
    },
    {
      "cell_type": "markdown",
      "source": [
        "### 5.3 Coeficiente de Silhouette para KMeans"
      ],
      "metadata": {
        "id": "iHsUoDfoEql6"
      }
    },
    {
      "cell_type": "code",
      "source": [
        ""
      ],
      "metadata": {
        "id": "EFGVLRkRzYrZ"
      },
      "execution_count": null,
      "outputs": []
    },
    {
      "cell_type": "code",
      "source": [
        ""
      ],
      "metadata": {
        "id": "JH8yOwCIzYuC"
      },
      "execution_count": null,
      "outputs": []
    },
    {
      "cell_type": "markdown",
      "source": [
        "### 5.4 Coeficiente de Silhouette para DBSCAN"
      ],
      "metadata": {
        "id": "jwki4C9OlFTB"
      }
    },
    {
      "cell_type": "code",
      "source": [
        ""
      ],
      "metadata": {
        "id": "RC72ipdAzVs4"
      },
      "execution_count": null,
      "outputs": []
    },
    {
      "cell_type": "code",
      "source": [
        ""
      ],
      "metadata": {
        "id": "iO0ESPBpzV0m"
      },
      "execution_count": null,
      "outputs": []
    },
    {
      "cell_type": "markdown",
      "source": [
        "### 5.5 Coeficiente de Silhouette para Mean Shift"
      ],
      "metadata": {
        "id": "NdHjkLpEbQ_V"
      }
    },
    {
      "cell_type": "code",
      "source": [
        ""
      ],
      "metadata": {
        "id": "TeO9DPVszSJc"
      },
      "execution_count": null,
      "outputs": []
    },
    {
      "cell_type": "code",
      "source": [
        ""
      ],
      "metadata": {
        "id": "pcn7Ac99zSxf"
      },
      "execution_count": null,
      "outputs": []
    },
    {
      "cell_type": "markdown",
      "source": [
        "### 5.6 Mejores configuraciones para la clusterización"
      ],
      "metadata": {
        "id": "TgCzU9roGHIA"
      }
    },
    {
      "cell_type": "code",
      "source": [
        ""
      ],
      "metadata": {
        "id": "-sZ2kFv1zOCE"
      },
      "execution_count": null,
      "outputs": []
    },
    {
      "cell_type": "code",
      "source": [
        ""
      ],
      "metadata": {
        "id": "ePdl1e_NzTQh"
      },
      "execution_count": null,
      "outputs": []
    }
  ]
}